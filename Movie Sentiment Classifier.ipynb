{
  "nbformat": 4,
  "nbformat_minor": 0,
  "metadata": {
    "colab": {
      "provenance": [],
      "gpuType": "T4"
    },
    "kernelspec": {
      "name": "python3",
      "display_name": "Python 3"
    },
    "language_info": {
      "name": "python"
    },
    "accelerator": "GPU",
    "gpuClass": "standard"
  },
  "cells": [
    {
      "cell_type": "code",
      "execution_count": null,
      "metadata": {
        "id": "F8BeZCknfNRS"
      },
      "outputs": [],
      "source": [
        "!pip install numpy\n",
        "!pip install scipy\n",
        "!pip install scikit-learn\n",
        "!pip install pandas\n",
        "!pip install tensorflow\n",
        "!pip install matplotlib\n",
        "!pip install keras_preprocessing"
      ]
    },
    {
      "cell_type": "code",
      "source": [
        "import pandas as pd\n",
        "import numpy as np\n",
        "import nltk\n",
        "from nltk.corpus import stopwords\n",
        "nltk.download('stopwords')\n",
        "import tensorflow as tf\n",
        "from tensorflow import keras\n",
        "import matplotlib.pyplot as plt\n",
        "from sklearn.feature_extraction.text import TfidfVectorizer\n",
        "from sklearn.model_selection import train_test_split\n",
        "from sklearn.linear_model import LogisticRegression\n",
        "from sklearn.naive_bayes import MultinomialNB\n",
        "from sklearn.metrics import accuracy_score, confusion_matrix, classification_report\n",
        "from keras.preprocessing.text import Tokenizer\n",
        "from keras_preprocessing.sequence import pad_sequences\n",
        "from tensorflow.keras.callbacks import EarlyStopping\n",
        "from keras.models import Sequential\n",
        "from keras.layers import Embedding, LSTM, Dense"
      ],
      "metadata": {
        "colab": {
          "base_uri": "https://localhost:8080/"
        },
        "id": "cSoDbx-9fQ6N",
        "outputId": "e562fd42-a295-4236-94ec-4d40f775971b"
      },
      "execution_count": null,
      "outputs": [
        {
          "output_type": "stream",
          "name": "stderr",
          "text": [
            "[nltk_data] Downloading package stopwords to /root/nltk_data...\n",
            "[nltk_data]   Unzipping corpora/stopwords.zip.\n"
          ]
        }
      ]
    },
    {
      "cell_type": "code",
      "source": [
        "review_dataset = pd.read_csv('/content/drive/MyDrive/440 Dataset/IMDB Dataset.csv')\n",
        "review_dataset.sample(10)"
      ],
      "metadata": {
        "colab": {
          "base_uri": "https://localhost:8080/",
          "height": 363
        },
        "id": "KyxRORNhhhRI",
        "outputId": "3911cf96-9c91-4cd0-f0b6-3c46f4d6f3f5"
      },
      "execution_count": null,
      "outputs": [
        {
          "output_type": "execute_result",
          "data": {
            "text/plain": [
              "                                                  review sentiment\n",
              "22392  I got this movie with my BBC \"Jane Austen Coll...  positive\n",
              "45040  The biggest National Lampoon hit remains \"Anim...  negative\n",
              "45441  What a wonderful movie, eligible for so many l...  positive\n",
              "40372  I read the reviews of this movie, and they wer...  negative\n",
              "21878  Wow. I thought, Eskimo Limon was the most awfu...  negative\n",
              "33122  I gave this movies a 7 out of 10. I think the ...  positive\n",
              "3073   Now this is the sort of film we used to get we...  positive\n",
              "35362  This is an amazing movie and is very clever at...  positive\n",
              "37001  With great expectations I went to see this fil...  negative\n",
              "25211  If this film had been directed by DW Griffith ...  positive"
            ],
            "text/html": [
              "\n",
              "  <div id=\"df-94f60f3d-d401-4163-9a91-51b9cad62875\">\n",
              "    <div class=\"colab-df-container\">\n",
              "      <div>\n",
              "<style scoped>\n",
              "    .dataframe tbody tr th:only-of-type {\n",
              "        vertical-align: middle;\n",
              "    }\n",
              "\n",
              "    .dataframe tbody tr th {\n",
              "        vertical-align: top;\n",
              "    }\n",
              "\n",
              "    .dataframe thead th {\n",
              "        text-align: right;\n",
              "    }\n",
              "</style>\n",
              "<table border=\"1\" class=\"dataframe\">\n",
              "  <thead>\n",
              "    <tr style=\"text-align: right;\">\n",
              "      <th></th>\n",
              "      <th>review</th>\n",
              "      <th>sentiment</th>\n",
              "    </tr>\n",
              "  </thead>\n",
              "  <tbody>\n",
              "    <tr>\n",
              "      <th>22392</th>\n",
              "      <td>I got this movie with my BBC \"Jane Austen Coll...</td>\n",
              "      <td>positive</td>\n",
              "    </tr>\n",
              "    <tr>\n",
              "      <th>45040</th>\n",
              "      <td>The biggest National Lampoon hit remains \"Anim...</td>\n",
              "      <td>negative</td>\n",
              "    </tr>\n",
              "    <tr>\n",
              "      <th>45441</th>\n",
              "      <td>What a wonderful movie, eligible for so many l...</td>\n",
              "      <td>positive</td>\n",
              "    </tr>\n",
              "    <tr>\n",
              "      <th>40372</th>\n",
              "      <td>I read the reviews of this movie, and they wer...</td>\n",
              "      <td>negative</td>\n",
              "    </tr>\n",
              "    <tr>\n",
              "      <th>21878</th>\n",
              "      <td>Wow. I thought, Eskimo Limon was the most awfu...</td>\n",
              "      <td>negative</td>\n",
              "    </tr>\n",
              "    <tr>\n",
              "      <th>33122</th>\n",
              "      <td>I gave this movies a 7 out of 10. I think the ...</td>\n",
              "      <td>positive</td>\n",
              "    </tr>\n",
              "    <tr>\n",
              "      <th>3073</th>\n",
              "      <td>Now this is the sort of film we used to get we...</td>\n",
              "      <td>positive</td>\n",
              "    </tr>\n",
              "    <tr>\n",
              "      <th>35362</th>\n",
              "      <td>This is an amazing movie and is very clever at...</td>\n",
              "      <td>positive</td>\n",
              "    </tr>\n",
              "    <tr>\n",
              "      <th>37001</th>\n",
              "      <td>With great expectations I went to see this fil...</td>\n",
              "      <td>negative</td>\n",
              "    </tr>\n",
              "    <tr>\n",
              "      <th>25211</th>\n",
              "      <td>If this film had been directed by DW Griffith ...</td>\n",
              "      <td>positive</td>\n",
              "    </tr>\n",
              "  </tbody>\n",
              "</table>\n",
              "</div>\n",
              "      <button class=\"colab-df-convert\" onclick=\"convertToInteractive('df-94f60f3d-d401-4163-9a91-51b9cad62875')\"\n",
              "              title=\"Convert this dataframe to an interactive table.\"\n",
              "              style=\"display:none;\">\n",
              "        \n",
              "  <svg xmlns=\"http://www.w3.org/2000/svg\" height=\"24px\"viewBox=\"0 0 24 24\"\n",
              "       width=\"24px\">\n",
              "    <path d=\"M0 0h24v24H0V0z\" fill=\"none\"/>\n",
              "    <path d=\"M18.56 5.44l.94 2.06.94-2.06 2.06-.94-2.06-.94-.94-2.06-.94 2.06-2.06.94zm-11 1L8.5 8.5l.94-2.06 2.06-.94-2.06-.94L8.5 2.5l-.94 2.06-2.06.94zm10 10l.94 2.06.94-2.06 2.06-.94-2.06-.94-.94-2.06-.94 2.06-2.06.94z\"/><path d=\"M17.41 7.96l-1.37-1.37c-.4-.4-.92-.59-1.43-.59-.52 0-1.04.2-1.43.59L10.3 9.45l-7.72 7.72c-.78.78-.78 2.05 0 2.83L4 21.41c.39.39.9.59 1.41.59.51 0 1.02-.2 1.41-.59l7.78-7.78 2.81-2.81c.8-.78.8-2.07 0-2.86zM5.41 20L4 18.59l7.72-7.72 1.47 1.35L5.41 20z\"/>\n",
              "  </svg>\n",
              "      </button>\n",
              "      \n",
              "  <style>\n",
              "    .colab-df-container {\n",
              "      display:flex;\n",
              "      flex-wrap:wrap;\n",
              "      gap: 12px;\n",
              "    }\n",
              "\n",
              "    .colab-df-convert {\n",
              "      background-color: #E8F0FE;\n",
              "      border: none;\n",
              "      border-radius: 50%;\n",
              "      cursor: pointer;\n",
              "      display: none;\n",
              "      fill: #1967D2;\n",
              "      height: 32px;\n",
              "      padding: 0 0 0 0;\n",
              "      width: 32px;\n",
              "    }\n",
              "\n",
              "    .colab-df-convert:hover {\n",
              "      background-color: #E2EBFA;\n",
              "      box-shadow: 0px 1px 2px rgba(60, 64, 67, 0.3), 0px 1px 3px 1px rgba(60, 64, 67, 0.15);\n",
              "      fill: #174EA6;\n",
              "    }\n",
              "\n",
              "    [theme=dark] .colab-df-convert {\n",
              "      background-color: #3B4455;\n",
              "      fill: #D2E3FC;\n",
              "    }\n",
              "\n",
              "    [theme=dark] .colab-df-convert:hover {\n",
              "      background-color: #434B5C;\n",
              "      box-shadow: 0px 1px 3px 1px rgba(0, 0, 0, 0.15);\n",
              "      filter: drop-shadow(0px 1px 2px rgba(0, 0, 0, 0.3));\n",
              "      fill: #FFFFFF;\n",
              "    }\n",
              "  </style>\n",
              "\n",
              "      <script>\n",
              "        const buttonEl =\n",
              "          document.querySelector('#df-94f60f3d-d401-4163-9a91-51b9cad62875 button.colab-df-convert');\n",
              "        buttonEl.style.display =\n",
              "          google.colab.kernel.accessAllowed ? 'block' : 'none';\n",
              "\n",
              "        async function convertToInteractive(key) {\n",
              "          const element = document.querySelector('#df-94f60f3d-d401-4163-9a91-51b9cad62875');\n",
              "          const dataTable =\n",
              "            await google.colab.kernel.invokeFunction('convertToInteractive',\n",
              "                                                     [key], {});\n",
              "          if (!dataTable) return;\n",
              "\n",
              "          const docLinkHtml = 'Like what you see? Visit the ' +\n",
              "            '<a target=\"_blank\" href=https://colab.research.google.com/notebooks/data_table.ipynb>data table notebook</a>'\n",
              "            + ' to learn more about interactive tables.';\n",
              "          element.innerHTML = '';\n",
              "          dataTable['output_type'] = 'display_data';\n",
              "          await google.colab.output.renderOutput(dataTable, element);\n",
              "          const docLink = document.createElement('div');\n",
              "          docLink.innerHTML = docLinkHtml;\n",
              "          element.appendChild(docLink);\n",
              "        }\n",
              "      </script>\n",
              "    </div>\n",
              "  </div>\n",
              "  "
            ]
          },
          "metadata": {},
          "execution_count": 3
        }
      ]
    },
    {
      "cell_type": "code",
      "source": [
        "review_dataset.isnull().values.any()\n",
        "\n",
        "def preprocess_text(text):\n",
        "\n",
        "    tokenizer = nltk.RegexpTokenizer(r'\\w+')\n",
        "    words = tokenizer.tokenize(text.lower())\n",
        "\n",
        "    stopwords_list = set(stopwords.words('english'))\n",
        "    words = [word for word in words if word not in stopwords_list]\n",
        "\n",
        "    return ' '.join(words)\n",
        "\n",
        "review_dataset['review'] = review_dataset['review'].apply(preprocess_text)"
      ],
      "metadata": {
        "id": "jSksYhQT8yRw"
      },
      "execution_count": null,
      "outputs": []
    },
    {
      "cell_type": "code",
      "source": [
        "review_dataset['sentiment']=review_dataset['sentiment'].apply(lambda x: 1 if x=='positive' else 0)\n",
        "review_dataset.sample(10)"
      ],
      "metadata": {
        "colab": {
          "base_uri": "https://localhost:8080/",
          "height": 363
        },
        "id": "R5aFqT7wlfAn",
        "outputId": "534972e7-80b2-45d4-e6c7-a29beeea6e07"
      },
      "execution_count": null,
      "outputs": [
        {
          "output_type": "execute_result",
          "data": {
            "text/plain": [
              "                                                  review  sentiment\n",
              "6139   rehearing carmen bizet middle aged choreograph...          1\n",
              "23788  discovered ring trilogy greedily gobbling japa...          1\n",
              "3018   well maybe immediately rodney king riots even ...          1\n",
              "41967  got dvd cheap total drewbie thats probably con...          0\n",
              "18758  okay first movie seemed pretty good even thoug...          0\n",
              "32964  wonderful family drama comedy starring macclai...          1\n",
              "11275  understand chinese took hong kong infamous cat...          1\n",
              "3086   great movie think gets enough credit saturday ...          1\n",
              "10424  get wrong assumed movie would stupid honestly ...          0\n",
              "19770  although movie playing part sheriff hodges sti...          1"
            ],
            "text/html": [
              "\n",
              "  <div id=\"df-6c8b8a13-f406-4162-9425-cd416c89b745\">\n",
              "    <div class=\"colab-df-container\">\n",
              "      <div>\n",
              "<style scoped>\n",
              "    .dataframe tbody tr th:only-of-type {\n",
              "        vertical-align: middle;\n",
              "    }\n",
              "\n",
              "    .dataframe tbody tr th {\n",
              "        vertical-align: top;\n",
              "    }\n",
              "\n",
              "    .dataframe thead th {\n",
              "        text-align: right;\n",
              "    }\n",
              "</style>\n",
              "<table border=\"1\" class=\"dataframe\">\n",
              "  <thead>\n",
              "    <tr style=\"text-align: right;\">\n",
              "      <th></th>\n",
              "      <th>review</th>\n",
              "      <th>sentiment</th>\n",
              "    </tr>\n",
              "  </thead>\n",
              "  <tbody>\n",
              "    <tr>\n",
              "      <th>6139</th>\n",
              "      <td>rehearing carmen bizet middle aged choreograph...</td>\n",
              "      <td>1</td>\n",
              "    </tr>\n",
              "    <tr>\n",
              "      <th>23788</th>\n",
              "      <td>discovered ring trilogy greedily gobbling japa...</td>\n",
              "      <td>1</td>\n",
              "    </tr>\n",
              "    <tr>\n",
              "      <th>3018</th>\n",
              "      <td>well maybe immediately rodney king riots even ...</td>\n",
              "      <td>1</td>\n",
              "    </tr>\n",
              "    <tr>\n",
              "      <th>41967</th>\n",
              "      <td>got dvd cheap total drewbie thats probably con...</td>\n",
              "      <td>0</td>\n",
              "    </tr>\n",
              "    <tr>\n",
              "      <th>18758</th>\n",
              "      <td>okay first movie seemed pretty good even thoug...</td>\n",
              "      <td>0</td>\n",
              "    </tr>\n",
              "    <tr>\n",
              "      <th>32964</th>\n",
              "      <td>wonderful family drama comedy starring macclai...</td>\n",
              "      <td>1</td>\n",
              "    </tr>\n",
              "    <tr>\n",
              "      <th>11275</th>\n",
              "      <td>understand chinese took hong kong infamous cat...</td>\n",
              "      <td>1</td>\n",
              "    </tr>\n",
              "    <tr>\n",
              "      <th>3086</th>\n",
              "      <td>great movie think gets enough credit saturday ...</td>\n",
              "      <td>1</td>\n",
              "    </tr>\n",
              "    <tr>\n",
              "      <th>10424</th>\n",
              "      <td>get wrong assumed movie would stupid honestly ...</td>\n",
              "      <td>0</td>\n",
              "    </tr>\n",
              "    <tr>\n",
              "      <th>19770</th>\n",
              "      <td>although movie playing part sheriff hodges sti...</td>\n",
              "      <td>1</td>\n",
              "    </tr>\n",
              "  </tbody>\n",
              "</table>\n",
              "</div>\n",
              "      <button class=\"colab-df-convert\" onclick=\"convertToInteractive('df-6c8b8a13-f406-4162-9425-cd416c89b745')\"\n",
              "              title=\"Convert this dataframe to an interactive table.\"\n",
              "              style=\"display:none;\">\n",
              "        \n",
              "  <svg xmlns=\"http://www.w3.org/2000/svg\" height=\"24px\"viewBox=\"0 0 24 24\"\n",
              "       width=\"24px\">\n",
              "    <path d=\"M0 0h24v24H0V0z\" fill=\"none\"/>\n",
              "    <path d=\"M18.56 5.44l.94 2.06.94-2.06 2.06-.94-2.06-.94-.94-2.06-.94 2.06-2.06.94zm-11 1L8.5 8.5l.94-2.06 2.06-.94-2.06-.94L8.5 2.5l-.94 2.06-2.06.94zm10 10l.94 2.06.94-2.06 2.06-.94-2.06-.94-.94-2.06-.94 2.06-2.06.94z\"/><path d=\"M17.41 7.96l-1.37-1.37c-.4-.4-.92-.59-1.43-.59-.52 0-1.04.2-1.43.59L10.3 9.45l-7.72 7.72c-.78.78-.78 2.05 0 2.83L4 21.41c.39.39.9.59 1.41.59.51 0 1.02-.2 1.41-.59l7.78-7.78 2.81-2.81c.8-.78.8-2.07 0-2.86zM5.41 20L4 18.59l7.72-7.72 1.47 1.35L5.41 20z\"/>\n",
              "  </svg>\n",
              "      </button>\n",
              "      \n",
              "  <style>\n",
              "    .colab-df-container {\n",
              "      display:flex;\n",
              "      flex-wrap:wrap;\n",
              "      gap: 12px;\n",
              "    }\n",
              "\n",
              "    .colab-df-convert {\n",
              "      background-color: #E8F0FE;\n",
              "      border: none;\n",
              "      border-radius: 50%;\n",
              "      cursor: pointer;\n",
              "      display: none;\n",
              "      fill: #1967D2;\n",
              "      height: 32px;\n",
              "      padding: 0 0 0 0;\n",
              "      width: 32px;\n",
              "    }\n",
              "\n",
              "    .colab-df-convert:hover {\n",
              "      background-color: #E2EBFA;\n",
              "      box-shadow: 0px 1px 2px rgba(60, 64, 67, 0.3), 0px 1px 3px 1px rgba(60, 64, 67, 0.15);\n",
              "      fill: #174EA6;\n",
              "    }\n",
              "\n",
              "    [theme=dark] .colab-df-convert {\n",
              "      background-color: #3B4455;\n",
              "      fill: #D2E3FC;\n",
              "    }\n",
              "\n",
              "    [theme=dark] .colab-df-convert:hover {\n",
              "      background-color: #434B5C;\n",
              "      box-shadow: 0px 1px 3px 1px rgba(0, 0, 0, 0.15);\n",
              "      filter: drop-shadow(0px 1px 2px rgba(0, 0, 0, 0.3));\n",
              "      fill: #FFFFFF;\n",
              "    }\n",
              "  </style>\n",
              "\n",
              "      <script>\n",
              "        const buttonEl =\n",
              "          document.querySelector('#df-6c8b8a13-f406-4162-9425-cd416c89b745 button.colab-df-convert');\n",
              "        buttonEl.style.display =\n",
              "          google.colab.kernel.accessAllowed ? 'block' : 'none';\n",
              "\n",
              "        async function convertToInteractive(key) {\n",
              "          const element = document.querySelector('#df-6c8b8a13-f406-4162-9425-cd416c89b745');\n",
              "          const dataTable =\n",
              "            await google.colab.kernel.invokeFunction('convertToInteractive',\n",
              "                                                     [key], {});\n",
              "          if (!dataTable) return;\n",
              "\n",
              "          const docLinkHtml = 'Like what you see? Visit the ' +\n",
              "            '<a target=\"_blank\" href=https://colab.research.google.com/notebooks/data_table.ipynb>data table notebook</a>'\n",
              "            + ' to learn more about interactive tables.';\n",
              "          element.innerHTML = '';\n",
              "          dataTable['output_type'] = 'display_data';\n",
              "          await google.colab.output.renderOutput(dataTable, element);\n",
              "          const docLink = document.createElement('div');\n",
              "          docLink.innerHTML = docLinkHtml;\n",
              "          element.appendChild(docLink);\n",
              "        }\n",
              "      </script>\n",
              "    </div>\n",
              "  </div>\n",
              "  "
            ]
          },
          "metadata": {},
          "execution_count": 5
        }
      ]
    },
    {
      "cell_type": "markdown",
      "source": [
        "# TASK 1"
      ],
      "metadata": {
        "id": "FBCkdcku1c6P"
      }
    },
    {
      "cell_type": "code",
      "source": [
        "train_data, test_data = train_test_split(review_dataset, test_size=0.2, random_state=42)"
      ],
      "metadata": {
        "id": "JTpT-G9OBe0L"
      },
      "execution_count": null,
      "outputs": []
    },
    {
      "cell_type": "code",
      "source": [
        "vectorizer = TfidfVectorizer()\n",
        "X_train = vectorizer.fit_transform(train_data['review'])\n",
        "y_train = train_data['sentiment']\n",
        "X_test = vectorizer.transform(test_data['review'])\n",
        "y_test = test_data['sentiment']\n"
      ],
      "metadata": {
        "id": "aBdMOdSNBwxJ"
      },
      "execution_count": null,
      "outputs": []
    },
    {
      "cell_type": "code",
      "source": [
        "train_prop = len(train_data) / len(review_dataset['review'])\n",
        "test_prop = len(test_data) / len(review_dataset['review'])\n",
        "\n",
        "print(\"Training set proportion: {:.2f}\".format(train_prop))\n",
        "print(\"Test set proportion: {:.2f}\".format(test_prop))"
      ],
      "metadata": {
        "colab": {
          "base_uri": "https://localhost:8080/"
        },
        "id": "e4A17Vye6sxG",
        "outputId": "b505764c-b613-4ec2-909f-38365cbb7ece"
      },
      "execution_count": null,
      "outputs": [
        {
          "output_type": "stream",
          "name": "stdout",
          "text": [
            "Training set proportion: 0.80\n",
            "Test set proportion: 0.20\n"
          ]
        }
      ]
    },
    {
      "cell_type": "code",
      "source": [
        "logistic_regression = LogisticRegression()\n",
        "logistic_regression.fit(X_train, y_train)\n"
      ],
      "metadata": {
        "colab": {
          "base_uri": "https://localhost:8080/",
          "height": 234
        },
        "id": "47igKaI5ALB3",
        "outputId": "53843ff2-1c7b-45d7-fae7-34323883fc65"
      },
      "execution_count": null,
      "outputs": [
        {
          "output_type": "stream",
          "name": "stderr",
          "text": [
            "/usr/local/lib/python3.10/dist-packages/sklearn/linear_model/_logistic.py:458: ConvergenceWarning: lbfgs failed to converge (status=1):\n",
            "STOP: TOTAL NO. of ITERATIONS REACHED LIMIT.\n",
            "\n",
            "Increase the number of iterations (max_iter) or scale the data as shown in:\n",
            "    https://scikit-learn.org/stable/modules/preprocessing.html\n",
            "Please also refer to the documentation for alternative solver options:\n",
            "    https://scikit-learn.org/stable/modules/linear_model.html#logistic-regression\n",
            "  n_iter_i = _check_optimize_result(\n"
          ]
        },
        {
          "output_type": "execute_result",
          "data": {
            "text/plain": [
              "LogisticRegression()"
            ],
            "text/html": [
              "<style>#sk-container-id-1 {color: black;background-color: white;}#sk-container-id-1 pre{padding: 0;}#sk-container-id-1 div.sk-toggleable {background-color: white;}#sk-container-id-1 label.sk-toggleable__label {cursor: pointer;display: block;width: 100%;margin-bottom: 0;padding: 0.3em;box-sizing: border-box;text-align: center;}#sk-container-id-1 label.sk-toggleable__label-arrow:before {content: \"▸\";float: left;margin-right: 0.25em;color: #696969;}#sk-container-id-1 label.sk-toggleable__label-arrow:hover:before {color: black;}#sk-container-id-1 div.sk-estimator:hover label.sk-toggleable__label-arrow:before {color: black;}#sk-container-id-1 div.sk-toggleable__content {max-height: 0;max-width: 0;overflow: hidden;text-align: left;background-color: #f0f8ff;}#sk-container-id-1 div.sk-toggleable__content pre {margin: 0.2em;color: black;border-radius: 0.25em;background-color: #f0f8ff;}#sk-container-id-1 input.sk-toggleable__control:checked~div.sk-toggleable__content {max-height: 200px;max-width: 100%;overflow: auto;}#sk-container-id-1 input.sk-toggleable__control:checked~label.sk-toggleable__label-arrow:before {content: \"▾\";}#sk-container-id-1 div.sk-estimator input.sk-toggleable__control:checked~label.sk-toggleable__label {background-color: #d4ebff;}#sk-container-id-1 div.sk-label input.sk-toggleable__control:checked~label.sk-toggleable__label {background-color: #d4ebff;}#sk-container-id-1 input.sk-hidden--visually {border: 0;clip: rect(1px 1px 1px 1px);clip: rect(1px, 1px, 1px, 1px);height: 1px;margin: -1px;overflow: hidden;padding: 0;position: absolute;width: 1px;}#sk-container-id-1 div.sk-estimator {font-family: monospace;background-color: #f0f8ff;border: 1px dotted black;border-radius: 0.25em;box-sizing: border-box;margin-bottom: 0.5em;}#sk-container-id-1 div.sk-estimator:hover {background-color: #d4ebff;}#sk-container-id-1 div.sk-parallel-item::after {content: \"\";width: 100%;border-bottom: 1px solid gray;flex-grow: 1;}#sk-container-id-1 div.sk-label:hover label.sk-toggleable__label {background-color: #d4ebff;}#sk-container-id-1 div.sk-serial::before {content: \"\";position: absolute;border-left: 1px solid gray;box-sizing: border-box;top: 0;bottom: 0;left: 50%;z-index: 0;}#sk-container-id-1 div.sk-serial {display: flex;flex-direction: column;align-items: center;background-color: white;padding-right: 0.2em;padding-left: 0.2em;position: relative;}#sk-container-id-1 div.sk-item {position: relative;z-index: 1;}#sk-container-id-1 div.sk-parallel {display: flex;align-items: stretch;justify-content: center;background-color: white;position: relative;}#sk-container-id-1 div.sk-item::before, #sk-container-id-1 div.sk-parallel-item::before {content: \"\";position: absolute;border-left: 1px solid gray;box-sizing: border-box;top: 0;bottom: 0;left: 50%;z-index: -1;}#sk-container-id-1 div.sk-parallel-item {display: flex;flex-direction: column;z-index: 1;position: relative;background-color: white;}#sk-container-id-1 div.sk-parallel-item:first-child::after {align-self: flex-end;width: 50%;}#sk-container-id-1 div.sk-parallel-item:last-child::after {align-self: flex-start;width: 50%;}#sk-container-id-1 div.sk-parallel-item:only-child::after {width: 0;}#sk-container-id-1 div.sk-dashed-wrapped {border: 1px dashed gray;margin: 0 0.4em 0.5em 0.4em;box-sizing: border-box;padding-bottom: 0.4em;background-color: white;}#sk-container-id-1 div.sk-label label {font-family: monospace;font-weight: bold;display: inline-block;line-height: 1.2em;}#sk-container-id-1 div.sk-label-container {text-align: center;}#sk-container-id-1 div.sk-container {/* jupyter's `normalize.less` sets `[hidden] { display: none; }` but bootstrap.min.css set `[hidden] { display: none !important; }` so we also need the `!important` here to be able to override the default hidden behavior on the sphinx rendered scikit-learn.org. See: https://github.com/scikit-learn/scikit-learn/issues/21755 */display: inline-block !important;position: relative;}#sk-container-id-1 div.sk-text-repr-fallback {display: none;}</style><div id=\"sk-container-id-1\" class=\"sk-top-container\"><div class=\"sk-text-repr-fallback\"><pre>LogisticRegression()</pre><b>In a Jupyter environment, please rerun this cell to show the HTML representation or trust the notebook. <br />On GitHub, the HTML representation is unable to render, please try loading this page with nbviewer.org.</b></div><div class=\"sk-container\" hidden><div class=\"sk-item\"><div class=\"sk-estimator sk-toggleable\"><input class=\"sk-toggleable__control sk-hidden--visually\" id=\"sk-estimator-id-1\" type=\"checkbox\" checked><label for=\"sk-estimator-id-1\" class=\"sk-toggleable__label sk-toggleable__label-arrow\">LogisticRegression</label><div class=\"sk-toggleable__content\"><pre>LogisticRegression()</pre></div></div></div></div></div>"
            ]
          },
          "metadata": {},
          "execution_count": 9
        }
      ]
    },
    {
      "cell_type": "code",
      "source": [
        "y_pred = logistic_regression.predict(X_test)\n"
      ],
      "metadata": {
        "id": "4ZFWlWbXAMja"
      },
      "execution_count": null,
      "outputs": []
    },
    {
      "cell_type": "code",
      "source": [
        "accuracy = accuracy_score(y_test, y_pred)\n",
        "confusion = confusion_matrix(y_test, y_pred)\n",
        "report = classification_report(y_test, y_pred)\n",
        "logistic_report = classification_report(y_test, y_pred, output_dict=True)\n",
        "\n",
        "print(f\"Accuracy: {accuracy:.4f}\")\n",
        "print(\"Confusion Matrix:\")\n",
        "print(confusion)\n",
        "print(\"Classification Report:\")\n",
        "print(report)\n"
      ],
      "metadata": {
        "colab": {
          "base_uri": "https://localhost:8080/"
        },
        "id": "P0mLKwI-AOc0",
        "outputId": "970770f7-ba2a-401a-9d9d-3980f6cef6ee"
      },
      "execution_count": null,
      "outputs": [
        {
          "output_type": "stream",
          "name": "stdout",
          "text": [
            "Accuracy: 0.8972\n",
            "Confusion Matrix:\n",
            "[[4372  589]\n",
            " [ 439 4600]]\n",
            "Classification Report:\n",
            "              precision    recall  f1-score   support\n",
            "\n",
            "           0       0.91      0.88      0.89      4961\n",
            "           1       0.89      0.91      0.90      5039\n",
            "\n",
            "    accuracy                           0.90     10000\n",
            "   macro avg       0.90      0.90      0.90     10000\n",
            "weighted avg       0.90      0.90      0.90     10000\n",
            "\n"
          ]
        }
      ]
    },
    {
      "cell_type": "code",
      "source": [
        "multinomial_nb = MultinomialNB()\n",
        "multinomial_nb.fit(X_train, y_train)"
      ],
      "metadata": {
        "colab": {
          "base_uri": "https://localhost:8080/",
          "height": 75
        },
        "id": "xv9O0l4nC3sL",
        "outputId": "bad4887d-d4db-465a-d162-f5c34a8eee41"
      },
      "execution_count": null,
      "outputs": [
        {
          "output_type": "execute_result",
          "data": {
            "text/plain": [
              "MultinomialNB()"
            ],
            "text/html": [
              "<style>#sk-container-id-2 {color: black;background-color: white;}#sk-container-id-2 pre{padding: 0;}#sk-container-id-2 div.sk-toggleable {background-color: white;}#sk-container-id-2 label.sk-toggleable__label {cursor: pointer;display: block;width: 100%;margin-bottom: 0;padding: 0.3em;box-sizing: border-box;text-align: center;}#sk-container-id-2 label.sk-toggleable__label-arrow:before {content: \"▸\";float: left;margin-right: 0.25em;color: #696969;}#sk-container-id-2 label.sk-toggleable__label-arrow:hover:before {color: black;}#sk-container-id-2 div.sk-estimator:hover label.sk-toggleable__label-arrow:before {color: black;}#sk-container-id-2 div.sk-toggleable__content {max-height: 0;max-width: 0;overflow: hidden;text-align: left;background-color: #f0f8ff;}#sk-container-id-2 div.sk-toggleable__content pre {margin: 0.2em;color: black;border-radius: 0.25em;background-color: #f0f8ff;}#sk-container-id-2 input.sk-toggleable__control:checked~div.sk-toggleable__content {max-height: 200px;max-width: 100%;overflow: auto;}#sk-container-id-2 input.sk-toggleable__control:checked~label.sk-toggleable__label-arrow:before {content: \"▾\";}#sk-container-id-2 div.sk-estimator input.sk-toggleable__control:checked~label.sk-toggleable__label {background-color: #d4ebff;}#sk-container-id-2 div.sk-label input.sk-toggleable__control:checked~label.sk-toggleable__label {background-color: #d4ebff;}#sk-container-id-2 input.sk-hidden--visually {border: 0;clip: rect(1px 1px 1px 1px);clip: rect(1px, 1px, 1px, 1px);height: 1px;margin: -1px;overflow: hidden;padding: 0;position: absolute;width: 1px;}#sk-container-id-2 div.sk-estimator {font-family: monospace;background-color: #f0f8ff;border: 1px dotted black;border-radius: 0.25em;box-sizing: border-box;margin-bottom: 0.5em;}#sk-container-id-2 div.sk-estimator:hover {background-color: #d4ebff;}#sk-container-id-2 div.sk-parallel-item::after {content: \"\";width: 100%;border-bottom: 1px solid gray;flex-grow: 1;}#sk-container-id-2 div.sk-label:hover label.sk-toggleable__label {background-color: #d4ebff;}#sk-container-id-2 div.sk-serial::before {content: \"\";position: absolute;border-left: 1px solid gray;box-sizing: border-box;top: 0;bottom: 0;left: 50%;z-index: 0;}#sk-container-id-2 div.sk-serial {display: flex;flex-direction: column;align-items: center;background-color: white;padding-right: 0.2em;padding-left: 0.2em;position: relative;}#sk-container-id-2 div.sk-item {position: relative;z-index: 1;}#sk-container-id-2 div.sk-parallel {display: flex;align-items: stretch;justify-content: center;background-color: white;position: relative;}#sk-container-id-2 div.sk-item::before, #sk-container-id-2 div.sk-parallel-item::before {content: \"\";position: absolute;border-left: 1px solid gray;box-sizing: border-box;top: 0;bottom: 0;left: 50%;z-index: -1;}#sk-container-id-2 div.sk-parallel-item {display: flex;flex-direction: column;z-index: 1;position: relative;background-color: white;}#sk-container-id-2 div.sk-parallel-item:first-child::after {align-self: flex-end;width: 50%;}#sk-container-id-2 div.sk-parallel-item:last-child::after {align-self: flex-start;width: 50%;}#sk-container-id-2 div.sk-parallel-item:only-child::after {width: 0;}#sk-container-id-2 div.sk-dashed-wrapped {border: 1px dashed gray;margin: 0 0.4em 0.5em 0.4em;box-sizing: border-box;padding-bottom: 0.4em;background-color: white;}#sk-container-id-2 div.sk-label label {font-family: monospace;font-weight: bold;display: inline-block;line-height: 1.2em;}#sk-container-id-2 div.sk-label-container {text-align: center;}#sk-container-id-2 div.sk-container {/* jupyter's `normalize.less` sets `[hidden] { display: none; }` but bootstrap.min.css set `[hidden] { display: none !important; }` so we also need the `!important` here to be able to override the default hidden behavior on the sphinx rendered scikit-learn.org. See: https://github.com/scikit-learn/scikit-learn/issues/21755 */display: inline-block !important;position: relative;}#sk-container-id-2 div.sk-text-repr-fallback {display: none;}</style><div id=\"sk-container-id-2\" class=\"sk-top-container\"><div class=\"sk-text-repr-fallback\"><pre>MultinomialNB()</pre><b>In a Jupyter environment, please rerun this cell to show the HTML representation or trust the notebook. <br />On GitHub, the HTML representation is unable to render, please try loading this page with nbviewer.org.</b></div><div class=\"sk-container\" hidden><div class=\"sk-item\"><div class=\"sk-estimator sk-toggleable\"><input class=\"sk-toggleable__control sk-hidden--visually\" id=\"sk-estimator-id-2\" type=\"checkbox\" checked><label for=\"sk-estimator-id-2\" class=\"sk-toggleable__label sk-toggleable__label-arrow\">MultinomialNB</label><div class=\"sk-toggleable__content\"><pre>MultinomialNB()</pre></div></div></div></div></div>"
            ]
          },
          "metadata": {},
          "execution_count": 12
        }
      ]
    },
    {
      "cell_type": "code",
      "source": [
        "y_pred = multinomial_nb.predict(X_test)"
      ],
      "metadata": {
        "id": "0_kfuSMZFRJl"
      },
      "execution_count": null,
      "outputs": []
    },
    {
      "cell_type": "code",
      "source": [
        "accuracy = accuracy_score(y_test, y_pred)\n",
        "confusion = confusion_matrix(y_test, y_pred)\n",
        "report = classification_report(y_test, y_pred)\n",
        "Multinomial_report = classification_report(y_test, y_pred, output_dict=True)\n",
        "\n",
        "print(f\"Accuracy: {accuracy:.4f}\")\n",
        "print(\"Confusion Matrix:\")\n",
        "print(confusion)\n",
        "print(\"Classification Report:\")\n",
        "print(report)"
      ],
      "metadata": {
        "colab": {
          "base_uri": "https://localhost:8080/"
        },
        "id": "RPMZjolMFTDM",
        "outputId": "7205c706-4b36-45ac-a5cf-b02a8c49a170"
      },
      "execution_count": null,
      "outputs": [
        {
          "output_type": "stream",
          "name": "stdout",
          "text": [
            "Accuracy: 0.8663\n",
            "Confusion Matrix:\n",
            "[[4364  597]\n",
            " [ 740 4299]]\n",
            "Classification Report:\n",
            "              precision    recall  f1-score   support\n",
            "\n",
            "           0       0.86      0.88      0.87      4961\n",
            "           1       0.88      0.85      0.87      5039\n",
            "\n",
            "    accuracy                           0.87     10000\n",
            "   macro avg       0.87      0.87      0.87     10000\n",
            "weighted avg       0.87      0.87      0.87     10000\n",
            "\n"
          ]
        }
      ]
    },
    {
      "cell_type": "code",
      "source": [
        "logistic_f1 = logistic_report['macro avg']['f1-score']\n",
        "multinomial_nb_f1 = Multinomial_report['macro avg']['f1-score']\n",
        "\n",
        "# Data for the bar graph\n",
        "models = ['Logistic Regression', 'Multinomial Naive Bayes']\n",
        "f1_scores = [logistic_f1, multinomial_nb_f1]\n",
        "f1_scores = [round(x, 2) for x in f1_scores]\n",
        "print(f1_scores)\n",
        "\n",
        "for i, v in enumerate(f1_scores):\n",
        "  plt.text(i, v, str(v), ha='center', va='bottom')\n",
        "\n",
        "# Create the bar graph\n",
        "plt.bar(models, f1_scores)\n",
        "plt.xlabel('Models')\n",
        "plt.ylabel('Macro Avg F1 Score')\n",
        "plt.title('Comparison of Macro Avg F1 Scores for Sentiment Classification Models')\n",
        "\n",
        "# Display the bar graph\n",
        "plt.show()\n"
      ],
      "metadata": {
        "colab": {
          "base_uri": "https://localhost:8080/",
          "height": 489
        },
        "id": "LiJLk7DYN80t",
        "outputId": "e3589680-0ba9-415e-dd43-bbab48f98286"
      },
      "execution_count": null,
      "outputs": [
        {
          "output_type": "stream",
          "name": "stdout",
          "text": [
            "[0.9, 0.87]\n"
          ]
        },
        {
          "output_type": "display_data",
          "data": {
            "text/plain": [
              "<Figure size 640x480 with 1 Axes>"
            ],
            "image/png": "[encoded data removed]"
          },
          "metadata": {}
        }
      ]
    },
    {
      "cell_type": "markdown",
      "source": [
        "From the Macro Avg score above we can clearly say that logistic regression is better in this scenario. Because Losgistic Regression has a higher accuracy. This might be because naive bayes assumes all features are independent which is simply not true."
      ],
      "metadata": {
        "id": "-PAsPJkQz6Rk"
      }
    },
    {
      "cell_type": "markdown",
      "source": [
        "# TASK 2"
      ],
      "metadata": {
        "id": "--BHVXRWxQvf"
      }
    },
    {
      "cell_type": "code",
      "source": [
        "train, test_val = train_test_split(review_dataset, test_size=0.3, random_state=42)\n",
        "test, val = train_test_split(test_val, test_size=0.333, random_state=42)"
      ],
      "metadata": {
        "id": "_YN1Y7-9VsVZ"
      },
      "execution_count": null,
      "outputs": []
    },
    {
      "cell_type": "code",
      "source": [
        "train_prop = len(train) / len(review_dataset)\n",
        "val_prop = len(val) / len(review_dataset)\n",
        "test_prop = len(test) / len(review_dataset)\n",
        "\n",
        "print(\"Training set proportion: {:.2f}\".format(train_prop))\n",
        "print(\"Validation set proportion: {:.2f}\".format(val_prop))\n",
        "print(\"Test set proportion: {:.2f}\".format(test_prop))"
      ],
      "metadata": {
        "colab": {
          "base_uri": "https://localhost:8080/"
        },
        "id": "7uN96-r8w9cJ",
        "outputId": "922e960d-d485-410a-fa72-375ffeb6c1c8"
      },
      "execution_count": null,
      "outputs": [
        {
          "output_type": "stream",
          "name": "stdout",
          "text": [
            "Training set proportion: 0.70\n",
            "Validation set proportion: 0.10\n",
            "Test set proportion: 0.20\n"
          ]
        }
      ]
    },
    {
      "cell_type": "code",
      "source": [
        "rnn_word_tokenizer = Tokenizer()\n",
        "rnn_word_tokenizer.fit_on_texts(train['review'])\n",
        "vocab_size = len(rnn_word_tokenizer.word_index) + 1"
      ],
      "metadata": {
        "id": "f_Wt31_8VsTu"
      },
      "execution_count": null,
      "outputs": []
    },
    {
      "cell_type": "code",
      "source": [
        "\n",
        "X_train = pad_sequences(rnn_word_tokenizer.texts_to_sequences(train['review']))\n",
        "X_test = pad_sequences(rnn_word_tokenizer.texts_to_sequences(test['review']))\n",
        "X_val = pad_sequences(rnn_word_tokenizer.texts_to_sequences(val['review']))\n",
        "y_train = train['sentiment']\n",
        "y_test = test['sentiment']\n",
        "y_val = val['sentiment']"
      ],
      "metadata": {
        "id": "DGSL1KJ2VsSa"
      },
      "execution_count": null,
      "outputs": []
    },
    {
      "cell_type": "code",
      "source": [
        "# Load the pre-trained GloVe embeddings\n",
        "\n",
        "embedding_dict = {}\n",
        "with open('/content/drive/MyDrive/440 Dataset/glove.6B.100d.txt', 'r') as f:\n",
        "    for line in f:\n",
        "        values = line.split()\n",
        "        word = values[0]\n",
        "        vector = np.asarray(values[1:], 'float32')\n",
        "        embedding_dict[word] = vector"
      ],
      "metadata": {
        "id": "1XZq_6ODVsPB"
      },
      "execution_count": null,
      "outputs": []
    },
    {
      "cell_type": "code",
      "source": [
        "# Create the embedding matrix\n",
        "embedding_matrix = np.zeros((vocab_size, 100))\n",
        "for word, i in rnn_word_tokenizer.word_index.items():\n",
        "    embedding_vector = embedding_dict.get(word)\n",
        "    if embedding_vector is not None:\n",
        "        embedding_matrix[i] = embedding_vector"
      ],
      "metadata": {
        "id": "Zs8NFmNRVsMp"
      },
      "execution_count": null,
      "outputs": []
    },
    {
      "cell_type": "code",
      "source": [
        "# Build the RNN model\n",
        "\n",
        "RNN_model = Sequential()\n",
        "RNN_model.add(Embedding(vocab_size, 100, weights=[embedding_matrix], trainable=False))\n",
        "RNN_model.add(LSTM(64))\n",
        "RNN_model.add(Dense(1, activation='sigmoid'))\n",
        "RNN_model.compile(optimizer='adam', loss='binary_crossentropy', metrics=['accuracy'])\n",
        "\n",
        "RNN_model.summary()"
      ],
      "metadata": {
        "id": "L6sL-kzsVsKA",
        "colab": {
          "base_uri": "https://localhost:8080/"
        },
        "outputId": "459be2e5-a600-4305-c1ec-3e2c242679cd"
      },
      "execution_count": null,
      "outputs": [
        {
          "output_type": "stream",
          "name": "stdout",
          "text": [
            "Model: \"sequential\"\n",
            "_________________________________________________________________\n",
            " Layer (type)                Output Shape              Param #   \n",
            "=================================================================\n",
            " embedding (Embedding)       (None, None, 100)         8775300   \n",
            "                                                                 \n",
            " lstm (LSTM)                 (None, 64)                42240     \n",
            "                                                                 \n",
            " dense (Dense)               (None, 1)                 65        \n",
            "                                                                 \n",
            "=================================================================\n",
            "Total params: 8,817,605\n",
            "Trainable params: 42,305\n",
            "Non-trainable params: 8,775,300\n",
            "_________________________________________________________________\n"
          ]
        }
      ]
    },
    {
      "cell_type": "code",
      "source": [
        "\n",
        "# early_stopping = EarlyStopping(patience=3, restore_best_weights=True)\n",
        "RNN_model.fit(X_train, y_train, validation_data=(X_val, y_val), epochs=25, batch_size=64, verbose=1)\n"
      ],
      "metadata": {
        "colab": {
          "base_uri": "https://localhost:8080/"
        },
        "id": "FCRPoH65VsHs",
        "outputId": "414f3c6f-d978-48fa-b0dd-44a305c36ded"
      },
      "execution_count": null,
      "outputs": [
        {
          "output_type": "stream",
          "name": "stdout",
          "text": [
            "Epoch 1/25\n",
            "547/547 [==============================] - 32s 46ms/step - loss: 0.4732 - accuracy: 0.7742 - val_loss: 0.4443 - val_accuracy: 0.7982\n",
            "Epoch 2/25\n",
            "547/547 [==============================] - 25s 46ms/step - loss: 0.3739 - accuracy: 0.8346 - val_loss: 0.3476 - val_accuracy: 0.8458\n",
            "Epoch 3/25\n",
            "547/547 [==============================] - 24s 44ms/step - loss: 0.3244 - accuracy: 0.8611 - val_loss: 0.3191 - val_accuracy: 0.8631\n",
            "Epoch 4/25\n",
            "547/547 [==============================] - 24s 44ms/step - loss: 0.2992 - accuracy: 0.8749 - val_loss: 0.2990 - val_accuracy: 0.8739\n",
            "Epoch 5/25\n",
            "547/547 [==============================] - 24s 45ms/step - loss: 0.2760 - accuracy: 0.8874 - val_loss: 0.3184 - val_accuracy: 0.8641\n",
            "Epoch 6/25\n",
            "547/547 [==============================] - 24s 44ms/step - loss: 0.2601 - accuracy: 0.8942 - val_loss: 0.2911 - val_accuracy: 0.8797\n",
            "Epoch 7/25\n",
            "547/547 [==============================] - 24s 43ms/step - loss: 0.2432 - accuracy: 0.9015 - val_loss: 0.2850 - val_accuracy: 0.8859\n",
            "Epoch 8/25\n",
            "547/547 [==============================] - 24s 43ms/step - loss: 0.2318 - accuracy: 0.9066 - val_loss: 0.2858 - val_accuracy: 0.8869\n",
            "Epoch 9/25\n",
            "547/547 [==============================] - 24s 44ms/step - loss: 0.2122 - accuracy: 0.9155 - val_loss: 0.2799 - val_accuracy: 0.8885\n",
            "Epoch 10/25\n",
            "547/547 [==============================] - 24s 44ms/step - loss: 0.2006 - accuracy: 0.9206 - val_loss: 0.2883 - val_accuracy: 0.8867\n",
            "Epoch 11/25\n",
            "547/547 [==============================] - 24s 45ms/step - loss: 0.1845 - accuracy: 0.9280 - val_loss: 0.3130 - val_accuracy: 0.8865\n",
            "Epoch 12/25\n",
            "547/547 [==============================] - 24s 43ms/step - loss: 0.1678 - accuracy: 0.9344 - val_loss: 0.2973 - val_accuracy: 0.8881\n",
            "Epoch 13/25\n",
            "547/547 [==============================] - 24s 45ms/step - loss: 0.1509 - accuracy: 0.9412 - val_loss: 0.3102 - val_accuracy: 0.8831\n",
            "Epoch 14/25\n",
            "547/547 [==============================] - 24s 44ms/step - loss: 0.1381 - accuracy: 0.9475 - val_loss: 0.3187 - val_accuracy: 0.8851\n",
            "Epoch 15/25\n",
            "547/547 [==============================] - 24s 44ms/step - loss: 0.1303 - accuracy: 0.9504 - val_loss: 0.3391 - val_accuracy: 0.8803\n",
            "Epoch 16/25\n",
            "547/547 [==============================] - 24s 45ms/step - loss: 0.1089 - accuracy: 0.9597 - val_loss: 0.3476 - val_accuracy: 0.8789\n",
            "Epoch 17/25\n",
            "547/547 [==============================] - 24s 43ms/step - loss: 0.0958 - accuracy: 0.9649 - val_loss: 0.3822 - val_accuracy: 0.8781\n",
            "Epoch 18/25\n",
            "547/547 [==============================] - 25s 45ms/step - loss: 0.1817 - accuracy: 0.9274 - val_loss: 0.3477 - val_accuracy: 0.8639\n",
            "Epoch 19/25\n",
            "547/547 [==============================] - 24s 44ms/step - loss: 0.1698 - accuracy: 0.9319 - val_loss: 0.3476 - val_accuracy: 0.8721\n",
            "Epoch 20/25\n",
            "547/547 [==============================] - 25s 45ms/step - loss: 0.1348 - accuracy: 0.9478 - val_loss: 0.3568 - val_accuracy: 0.8733\n",
            "Epoch 21/25\n",
            "547/547 [==============================] - 24s 44ms/step - loss: 0.1158 - accuracy: 0.9562 - val_loss: 0.3796 - val_accuracy: 0.8775\n",
            "Epoch 22/25\n",
            "547/547 [==============================] - 24s 44ms/step - loss: 0.0991 - accuracy: 0.9639 - val_loss: 0.4033 - val_accuracy: 0.8723\n",
            "Epoch 23/25\n",
            "547/547 [==============================] - 25s 45ms/step - loss: 0.0823 - accuracy: 0.9713 - val_loss: 0.4598 - val_accuracy: 0.8725\n",
            "Epoch 24/25\n",
            "547/547 [==============================] - 25s 45ms/step - loss: 0.0753 - accuracy: 0.9745 - val_loss: 0.4631 - val_accuracy: 0.8729\n",
            "Epoch 25/25\n",
            "547/547 [==============================] - 25s 45ms/step - loss: 0.0669 - accuracy: 0.9771 - val_loss: 0.4577 - val_accuracy: 0.8717\n"
          ]
        },
        {
          "output_type": "execute_result",
          "data": {
            "text/plain": [
              "<keras.callbacks.History at 0x7f6e8c03dd50>"
            ]
          },
          "metadata": {},
          "execution_count": 23
        }
      ]
    },
    {
      "cell_type": "code",
      "source": [
        "from sklearn.metrics import confusion_matrix, classification_report\n",
        "import sys\n",
        "import numpy as np\n",
        "import seaborn as sn\n",
        "np.set_printoptions(threshold=sys.maxsize)\n",
        "y_pred = RNN_model.predict(X_test)\n",
        "y_pred = y_pred.flatten()\n",
        "y_pred = np.where(y_pred > 0.5, 1, 0)\n",
        "\n",
        "cm=confusion_matrix(y_test,y_pred)\n",
        "sn.heatmap(cm, annot=True, fmt='d')\n",
        "plt.xlabel('Predicted')\n",
        "plt.ylabel('Truth')"
      ],
      "metadata": {
        "colab": {
          "base_uri": "https://localhost:8080/",
          "height": 484
        },
        "id": "OdLa2Bbxyx1x",
        "outputId": "c0f40593-7c96-4734-f2f4-7aa14a16d172"
      },
      "execution_count": null,
      "outputs": [
        {
          "output_type": "stream",
          "name": "stdout",
          "text": [
            "313/313 [==============================] - 5s 14ms/step\n"
          ]
        },
        {
          "output_type": "execute_result",
          "data": {
            "text/plain": [
              "Text(50.722222222222214, 0.5, 'Truth')"
            ]
          },
          "metadata": {},
          "execution_count": 24
        },
        {
          "output_type": "display_data",
          "data": {
            "text/plain": [
              "<Figure size 640x480 with 2 Axes>"
            ],
            "image/png": "[encoded data removed]"
          },
          "metadata": {}
        }
      ]
    },
    {
      "cell_type": "code",
      "source": [
        "print(classification_report(y_test,y_pred))"
      ],
      "metadata": {
        "colab": {
          "base_uri": "https://localhost:8080/"
        },
        "id": "G8ZpY4UPy1Sk",
        "outputId": "38d9d92d-251f-4070-d9aa-ee6949ed0144"
      },
      "execution_count": null,
      "outputs": [
        {
          "output_type": "stream",
          "name": "stdout",
          "text": [
            "              precision    recall  f1-score   support\n",
            "\n",
            "           0       0.87      0.87      0.87      4920\n",
            "           1       0.88      0.87      0.88      5085\n",
            "\n",
            "    accuracy                           0.87     10005\n",
            "   macro avg       0.87      0.87      0.87     10005\n",
            "weighted avg       0.87      0.87      0.87     10005\n",
            "\n"
          ]
        }
      ]
    },
    {
      "cell_type": "markdown",
      "source": [
        "F1 Scores of the Models:\n",
        "Logistic Regression: 0.9\n",
        "Multinomial Naive Bayes: 0.87\n",
        "RNN: 0.87\n",
        "We can see here that the clear winner is Logistic Regression and in second place are RNN and Multinomial Naive Bayes with both of them having equal scores of 0.87."
      ],
      "metadata": {
        "id": "ijXM2V8Y1Ou4"
      }
    }
  ]
}